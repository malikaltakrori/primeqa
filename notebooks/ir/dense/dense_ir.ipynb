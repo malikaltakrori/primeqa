{
 "cells": [
  {
   "cell_type": "markdown",
   "id": "787e1675",
   "metadata": {},
   "source": [
    "## Dense IR\n",
    "In this notebook, we show how to train a model, index data, and run search using Neural IR  : in this case ColBERT v2.0 (Santhanam et. al, 2022). TODO: add dependencies\n",
    "\n",
    "In orded to run (almost) instantaneously, we use trivial data sizes of training data and collection to search."
   ]
  },
  {
   "cell_type": "markdown",
   "id": "ddbd2536",
   "metadata": {},
   "source": [
    "## Dependencies\n",
    "If not already done, make sure to install PrimeQA with notebooks extras before getting started."
   ]
  },
  {
   "cell_type": "code",
   "execution_count": 22,
   "id": "21c8eded",
   "metadata": {},
   "outputs": [],
   "source": [
    "# If you want CUDA 11 uncomment and run this (for CUDA 10 or CPU you can ignore this line).\n",
    "#! pip install 'torch~=1.11.0' --extra-index-url https://download.pytorch.org/whl/cu113\n",
    "\n",
    "# Uncomment to install PrimeQA from source (pypi package pending).\n",
    "# The path should be the project root (e.g. '.' below).\n",
    "#! pip install .[notebooks]"
   ]
  },
  {
   "cell_type": "markdown",
   "id": "9d64fe65",
   "metadata": {},
   "source": [
    "## Configuration\n",
    "First, we need to include the required modules."
   ]
  },
  {
   "cell_type": "code",
   "execution_count": 23,
   "id": "7fa777e7",
   "metadata": {},
   "outputs": [],
   "source": [
    "import os\n",
    "import tempfile\n",
    " \n",
    "from primeqa.ir.dense.colbert_top.colbert.utils.utils import create_directory, print_message\n",
    "from primeqa.ir.dense.colbert_top.colbert.infra import Run, RunConfig\n",
    "from primeqa.ir.dense.colbert_top.colbert.infra.config import ColBERTConfig\n",
    "from primeqa.ir.dense.colbert_top.colbert.training.training import train\n",
    "from primeqa.ir.dense.colbert_top.colbert.indexing.collection_indexer import encode\n",
    "from primeqa.ir.dense.colbert_top.colbert.searcher import Searcher"
   ]
  },
  {
   "cell_type": "markdown",
   "id": "322f5139",
   "metadata": {},
   "source": [
    "## Training\n",
    "We will train a ColBERT model using a TSV file containing [query, positive document, negative document] triples. We use the XOR-TyDi dataset, as described here: https://nlp.cs.washington.edu/xorqa/\n",
    "\n",
    "The path in `test_files_location` below points to the location of files used by the notebook, by default it points to the files used by CI testing."
   ]
  },
  {
   "cell_type": "code",
   "execution_count": 24,
   "id": "23f199e3",
   "metadata": {},
   "outputs": [],
   "source": [
    "test_files_location = '../../../tests/resources/ir_dense'\n",
    "model_name_or_path = 'xlm-roberta-base'\n",
    "with tempfile.TemporaryDirectory() as working_dir:\n",
    "    output_dir=os.path.join(working_dir, 'output_dir')\n",
    "text_triples_fn = os.path.join(test_files_location, \"xorqa.train_ir_negs_5_poss_1_001pct_at_0pct.tsv\")"
   ]
  },
  {
   "cell_type": "markdown",
   "id": "bbaac315",
   "metadata": {},
   "source": [
    "Here is an example of a training file record:"
   ]
  },
  {
   "cell_type": "code",
   "execution_count": 25,
   "id": "3eec7578",
   "metadata": {
    "scrolled": true
   },
   "outputs": [
    {
     "data": {
      "text/html": [
       "<table border=\"1\" class=\"dataframe\">\n",
       "  <thead>\n",
       "    <tr style=\"text-align: right;\">\n",
       "      <th></th>\n",
       "      <th>0</th>\n",
       "      <th>1</th>\n",
       "      <th>2</th>\n",
       "    </tr>\n",
       "  </thead>\n",
       "  <tbody>\n",
       "    <tr>\n",
       "      <th>0</th>\n",
       "      <td>중국에서 가장 오랜기간 왕위를 유지한 인물은 누구인가?</td>\n",
       "      <td>Kangxi Emperor The Kangxi Emperor's reign of 61 years makes him the longest-reigning emperor in Chinese history (although his grandson, the Qianlong Emperor, had the longest period of \"de facto\" power) and one of the longest-reigning rulers in the world. However, since he ascended the throne at the age of seven, actual power was held for six years by four regents and his grandmother, the Grand Empress Dowager Xiaozhuang.</td>\n",
       "      <td>Chiddy Bang new songs from the duo and in November 2009 debuted the group's first free mixtape entitled \"The Swelly Express\". On 28 April 2011 during the first-ever MTV O Music Awards, Anamege broke the Guinness World Record for Longest Freestyle Rap and Longest Marathon Rapping Record by freestyling for 9 hours, 18 minutes, and 22 seconds, stealing the throne from rapper M-Eighty, who originally broke the record in 2009 by rapping for 9 hours, 15 minutes and 15 seconds. Anamege had also beat Canadian rapper D.O. for Longest Marathon Rapping session, the previous record being for 8 hours and 45 minutes.</td>\n",
       "    </tr>\n",
       "  </tbody>\n",
       "</table>"
      ],
      "text/plain": [
       "<IPython.core.display.HTML object>"
      ]
     },
     "metadata": {},
     "output_type": "display_data"
    }
   ],
   "source": [
    "import pandas as pd\n",
    "from IPython.display import display, HTML\n",
    "data = pd.read_csv(text_triples_fn, sep='\\t', nrows=1, header=None)\n",
    "display(HTML(data.to_html()))"
   ]
  },
  {
   "cell_type": "code",
   "execution_count": 26,
   "id": "bf6c9b8d",
   "metadata": {},
   "outputs": [],
   "source": [
    "args_dict = {\n",
    "                'root': output_dir,\n",
    "                'experiment': 'test_training',\n",
    "                'triples': text_triples_fn,\n",
    "                'checkpoint': model_name_or_path,\n",
    "                'maxsteps': 3,\n",
    "                'bsize': 1,\n",
    "                'accumsteps': 1,\n",
    "                'epochs': 1,\n",
    "                'rank': 0,\n",
    "                'nranks': 1,\n",
    "                'amp' : True\n",
    "            }"
   ]
  },
  {
   "cell_type": "markdown",
   "id": "54f9433a",
   "metadata": {},
   "source": [
    "Next we train the model, and save it's location in `the latest_model_fn`variable"
   ]
  },
  {
   "cell_type": "code",
   "execution_count": 27,
   "id": "eba19fa1",
   "metadata": {},
   "outputs": [
    {
     "name": "stdout",
     "output_type": "stream",
     "text": [
      "{\n",
      "    \"ncells\": null,\n",
      "    \"centroid_score_threshold\": null,\n",
      "    \"ndocs\": null,\n",
      "    \"index_path\": null,\n",
      "    \"index_location\": null,\n",
      "    \"nbits\": 1,\n",
      "    \"kmeans_niters\": 20,\n",
      "    \"num_partitions_max\": 10000000,\n",
      "    \"similarity\": \"cosine\",\n",
      "    \"bsize\": 1,\n",
      "    \"accumsteps\": 1,\n",
      "    \"lr\": 3e-6,\n",
      "    \"maxsteps\": 3,\n",
      "    \"save_every\": null,\n",
      "    \"resume\": false,\n",
      "    \"resume_optimizer\": false,\n",
      "    \"warmup\": null,\n",
      "    \"warmup_bert\": null,\n",
      "    \"relu\": false,\n",
      "    \"nway\": 2,\n",
      "    \"use_ib_negatives\": false,\n",
      "    \"reranker\": false,\n",
      "    \"distillation_alpha\": 1.0,\n",
      "    \"ignore_scores\": false,\n",
      "    \"shuffle_every_epoch\": false,\n",
      "    \"save_steps\": 2000,\n",
      "    \"save_epochs\": -1,\n",
      "    \"epochs\": 1,\n",
      "    \"input_arguments\": {},\n",
      "    \"local_models_repository\": null,\n",
      "    \"ranks_fn\": null,\n",
      "    \"output_dir\": null,\n",
      "    \"topK\": 100,\n",
      "    \"student_teacher_temperature\": 1.0,\n",
      "    \"student_teacher_top_loss_weight\": 0.5,\n",
      "    \"teacher_doc_maxlen\": 180,\n",
      "    \"distill_query_passage_separately\": false,\n",
      "    \"query_only\": false,\n",
      "    \"loss_function\": null,\n",
      "    \"query_weight\": 0.5,\n",
      "    \"rng_seed\": 12345,\n",
      "    \"query_maxlen\": 32,\n",
      "    \"attend_to_mask_tokens\": false,\n",
      "    \"interaction\": \"colbert\",\n",
      "    \"dim\": 128,\n",
      "    \"doc_maxlen\": 180,\n",
      "    \"mask_punctuation\": true,\n",
      "    \"checkpoint\": \"xlm-roberta-base\",\n",
      "    \"teacher_checkpoint\": null,\n",
      "    \"triples\": \"..\\/..\\/..\\/tests\\/resources\\/ir_dense\\/xorqa.train_ir_negs_5_poss_1_001pct_at_0pct.tsv\",\n",
      "    \"teacher_triples\": null,\n",
      "    \"collection\": null,\n",
      "    \"queries\": null,\n",
      "    \"index_name\": null,\n",
      "    \"overwrite\": false,\n",
      "    \"root\": \"\\/tmp\\/tmpw0dp15mr\\/output_dir\",\n",
      "    \"experiment\": \"test_training\",\n",
      "    \"index_root\": null,\n",
      "    \"name\": \"2023-11\\/03\\/03.29.57\",\n",
      "    \"rank\": 0,\n",
      "    \"nranks\": 1,\n",
      "    \"amp\": true,\n",
      "    \"gpus\": 0\n",
      "}\n",
      "[Nov 03, 04:23:41] Using config.bsize = 1 (per process) and config.accumsteps = 1\n",
      "[Nov 03, 04:23:41] #>>>>> at ColBERT name (model name) : xlm-roberta-base\n",
      "[Nov 03, 04:23:41] #>>>>> at BaseColBERT name (model name) : xlm-roberta-base\n",
      "[Nov 03, 04:23:41] #> base_config.py load_from_checkpoint xlm-roberta-base\n",
      "[Nov 03, 04:23:41] #> base_config.py load_from_checkpoint xlm-roberta-base/artifact.metadata\n",
      "[Nov 03, 04:23:41] factory model type: xlm-roberta\n"
     ]
    },
    {
     "name": "stderr",
     "output_type": "stream",
     "text": [
      "Some weights of the model checkpoint at xlm-roberta-base were not used when initializing HF_ColBERT_XLMR: ['lm_head.bias', 'lm_head.decoder.weight', 'lm_head.dense.bias', 'lm_head.layer_norm.weight', 'lm_head.dense.weight', 'lm_head.layer_norm.bias']\n",
      "- This IS expected if you are initializing HF_ColBERT_XLMR from the checkpoint of a model trained on another task or with another architecture (e.g. initializing a BertForSequenceClassification model from a BertForPreTraining model).\n",
      "- This IS NOT expected if you are initializing HF_ColBERT_XLMR from the checkpoint of a model that you expect to be exactly identical (initializing a BertForSequenceClassification model from a BertForSequenceClassification model).\n",
      "Some weights of HF_ColBERT_XLMR were not initialized from the model checkpoint at xlm-roberta-base and are newly initialized: ['linear.weight']\n",
      "You should probably TRAIN this model on a down-stream task to be able to use it for predictions and inference.\n"
     ]
    },
    {
     "name": "stdout",
     "output_type": "stream",
     "text": [
      "[Nov 03, 04:23:51] factory model type: xlm-roberta\n",
      "[Nov 03, 04:23:52] factory model type: xlm-roberta\n",
      "[Nov 03, 04:23:53] #> Loading triples...\n",
      "[Nov 03, 04:23:53] 1 epochs of 5 examples\n",
      "[Nov 03, 04:23:53] batch size: 1\n",
      "[Nov 03, 04:23:53] maxsteps set to 3\n",
      "[Nov 03, 04:23:53] start batch idx: 0\n",
      "[Nov 03, 04:23:53] #> XMLR QueryTokenizer.tensorize(batch_text[0], batch_background[0], bsize) ==\n",
      "[Nov 03, 04:23:53] #> Input: $ 중국에서 가장 오랜기간 왕위를 유지한 인물은 누구인가?, \t\t True, \t\t None\n",
      "[Nov 03, 04:23:53] #> Output IDs: torch.Size([32]), tensor([     0,   9748,  24120,   1180,  13968, 211059,  83639,  76826,  78363,\n",
      "         57104,    993, 161732,    697, 116932, 114150,     32,      2,      1,\n",
      "             1,      1,      1,      1,      1,      1,      1,      1,      1,\n",
      "             1,      1,      1,      1,      1])\n",
      "[Nov 03, 04:23:53] #> Output Mask: torch.Size([32]), tensor([1, 1, 1, 1, 1, 1, 1, 1, 1, 1, 1, 1, 1, 1, 1, 1, 1, 0, 0, 0, 0, 0, 0, 0,\n",
      "        0, 0, 0, 0, 0, 0, 0, 0])\n",
      "[Nov 03, 04:23:53] #> XLMR DocTokenizer.tensorize(batch_text[0], batch_background[0], bsize) ==\n",
      "[Nov 03, 04:23:53] #> Input: $ Kangxi Emperor The Kangxi Emperor's reign of 61 years makes him the longest-reigning emperor in Chinese history (although his grandson, the Qianlong Emperor, had the longest period of \"de facto\" power) and one of the longest-reigning rulers in the world. However, since he ascended the throne at the age of seven, actual power was held for six years by four regents and his grandmother, the Grand Empress Dowager Xiaozhuang., \t\t None\n",
      "[Nov 03, 04:23:53] #> Output IDs: torch.Size([152]), tensor([     0,   9749,  30267,   5134,  31678,     56,    748,    581,  30267,\n",
      "          5134,  31678,     56,    748,     25,      7,   1690,  38529,    111,\n",
      "         11716,   5369,  30482,   4049,     70,   4989,    525,      9,    107,\n",
      "           872,    592,      6,  88940,    748,     23,  76438,  32692,     15,\n",
      "           289, 197271,   1919,  69190,    191,      4,     70,  43954,     66,\n",
      "         10617,  31678,     56,    748,      4,   1902,     70,   4989,    525,\n",
      "         14922,    111,     44,    112,  72563,     58,  14537,     16,    136,\n",
      "          1632,    111,     70,   4989,    525,      9,    107,    872,    592,\n",
      "         79986,   4295,     23,     70,   8999,      5,  33306,      4,  16792,\n",
      "           764,  82800,    297,     70,      6,  42294,     86,     99,     70,\n",
      "         32070,    111,  59671,      4,   8561,  14537,    509,  34658,    100,\n",
      "         37195,   5369,    390,  22759, 119555,    933,    136,   1919,   9963,\n",
      "           432,   9319,      4,     70,  12801,   2775,  11856, 145058,  33730,\n",
      "        211423,    169,   1132,   1463,      5,      2,      1,      1,      1,\n",
      "             1,      1,      1,      1,      1,      1,      1,      1,      1,\n",
      "             1,      1,      1,      1,      1,      1,      1,      1,      1,\n",
      "             1,      1,      1,      1,      1,      1,      1,      1])\n",
      "[Nov 03, 04:23:53] #> Output Mask: torch.Size([152]), tensor([1, 1, 1, 1, 1, 1, 1, 1, 1, 1, 1, 1, 1, 1, 1, 1, 1, 1, 1, 1, 1, 1, 1, 1,\n",
      "        1, 1, 1, 1, 1, 1, 1, 1, 1, 1, 1, 1, 1, 1, 1, 1, 1, 1, 1, 1, 1, 1, 1, 1,\n",
      "        1, 1, 1, 1, 1, 1, 1, 1, 1, 1, 1, 1, 1, 1, 1, 1, 1, 1, 1, 1, 1, 1, 1, 1,\n",
      "        1, 1, 1, 1, 1, 1, 1, 1, 1, 1, 1, 1, 1, 1, 1, 1, 1, 1, 1, 1, 1, 1, 1, 1,\n",
      "        1, 1, 1, 1, 1, 1, 1, 1, 1, 1, 1, 1, 1, 1, 1, 1, 1, 1, 1, 1, 1, 1, 1, 1,\n",
      "        1, 1, 1, 0, 0, 0, 0, 0, 0, 0, 0, 0, 0, 0, 0, 0, 0, 0, 0, 0, 0, 0, 0, 0,\n",
      "        0, 0, 0, 0, 0, 0, 0, 0])\n",
      "[Nov 03, 04:23:53] #>>>> colbert query ==\n",
      "[Nov 03, 04:23:53] #>>>>> input_ids: torch.Size([32]), tensor([     0,   9748,  24120,   1180,  13968, 211059,  83639,  76826,  78363,\n",
      "         57104,    993, 161732,    697, 116932, 114150,     32,      2,      1,\n",
      "             1,      1,      1,      1,      1,      1,      1,      1,      1,\n",
      "             1,      1,      1,      1,      1])\n"
     ]
    },
    {
     "name": "stderr",
     "output_type": "stream",
     "text": [
      "/dccstor/cssblr/rbhat/.envs/pqa/lib/python3.9/site-packages/transformers/optimization.py:306: FutureWarning: This implementation of AdamW is deprecated and will be removed in a future version. Use the PyTorch implementation torch.optim.AdamW instead, or set `no_deprecation_warning=True` to disable this warning\n",
      "  warnings.warn(\n",
      "/dccstor/cssblr/rbhat/.envs/pqa/lib/python3.9/site-packages/torch/cuda/amp/grad_scaler.py:115: UserWarning: torch.cuda.amp.GradScaler is enabled, but CUDA is not available.  Disabling.\n",
      "  warnings.warn(\"torch.cuda.amp.GradScaler is enabled, but CUDA is not available.  Disabling.\")\n",
      "/dccstor/cssblr/rbhat/.envs/pqa/lib/python3.9/site-packages/torch/autocast_mode.py:162: UserWarning: User provided device_type of 'cuda', but CUDA is not available. Disabling\n",
      "  warnings.warn('User provided device_type of \\'cuda\\', but CUDA is not available. Disabling')\n"
     ]
    },
    {
     "name": "stdout",
     "output_type": "stream",
     "text": [
      "[Nov 03, 04:23:54] #>>>> before linear query ==\n",
      "[Nov 03, 04:23:54] #>>>>> Q: torch.Size([32, 768]), tensor([[ 0.1269,  0.0868,  0.0588,  ..., -0.0978,  0.0423,  0.0024],\n",
      "        [ 0.0237,  0.0695,  0.0303,  ..., -0.0671, -0.0818, -0.0653],\n",
      "        [ 0.0626,  0.0780,  0.0324,  ...,  0.0213, -0.0027,  0.1598],\n",
      "        ...,\n",
      "        [ 0.1314,  0.0969,  0.0671,  ..., -0.1059,  0.0561, -0.0338],\n",
      "        [ 0.0398,  0.0168,  0.0476,  ..., -0.0210, -0.0167, -0.0480],\n",
      "        [ 0.0871,  0.0832,  0.0208,  ..., -0.0546,  0.0003,  0.0225]],\n",
      "       grad_fn=<SelectBackward0>)\n",
      "[Nov 03, 04:23:54] #>>>>> self.linear query : Parameter containing:\n",
      "tensor([[-1.2613e-02, -3.6824e-03, -1.0773e-02,  ..., -1.3896e-02,\n",
      "          1.2244e-02, -8.2326e-03],\n",
      "        [-3.4988e-03,  3.9623e-03, -2.4905e-02,  ..., -2.6214e-02,\n",
      "          4.0837e-03, -8.0812e-03],\n",
      "        [-1.1158e-02, -2.1660e-05,  1.5019e-02,  ..., -1.1310e-02,\n",
      "         -9.3691e-03, -2.2202e-02],\n",
      "        ...,\n",
      "        [-1.0295e-02,  3.2577e-02,  3.3341e-03,  ...,  3.1876e-02,\n",
      "          3.6851e-03,  2.2995e-02],\n",
      "        [ 1.5563e-03,  2.2341e-03,  1.3362e-02,  ..., -2.8300e-02,\n",
      "          3.9382e-03,  1.1980e-02],\n",
      "        [-5.5801e-03,  3.1922e-02, -2.3421e-02,  ..., -1.1762e-04,\n",
      "          1.1104e-02, -9.7669e-03]], requires_grad=True)\n",
      "[Nov 03, 04:23:54] #>>>> colbert query ==\n",
      "[Nov 03, 04:23:54] #>>>>> Q: torch.Size([32, 128]), tensor([[-2.0807e-01, -2.8308e-02, -3.4714e-01,  ..., -1.5437e-01,\n",
      "         -1.1283e-01, -1.9922e-01],\n",
      "        [-5.8863e-02,  2.5084e-01, -4.4934e-01,  ..., -2.2064e-01,\n",
      "         -2.4872e-01, -6.0744e-02],\n",
      "        [ 1.5445e-03,  2.7442e-01, -4.6942e-01,  ..., -3.4489e-01,\n",
      "         -2.1474e-01, -1.7858e-02],\n",
      "        ...,\n",
      "        [-2.0095e-01, -3.4476e-02, -3.4331e-01,  ..., -1.5825e-01,\n",
      "         -1.2848e-01, -1.9769e-01],\n",
      "        [-1.4014e-01,  1.9043e-01, -4.8735e-01,  ..., -2.1481e-01,\n",
      "         -3.0219e-01, -1.2825e-01],\n",
      "        [-1.7410e-01, -2.4073e-04, -3.4931e-01,  ..., -1.7014e-01,\n",
      "         -1.2034e-01, -1.9180e-01]], grad_fn=<SelectBackward0>)\n",
      "[Nov 03, 04:23:54] #>>>> colbert doc ==\n",
      "[Nov 03, 04:23:54] #>>>>> input_ids: torch.Size([152]), tensor([     0,   9749,  30267,   5134,  31678,     56,    748,    581,  30267,\n",
      "          5134,  31678,     56,    748,     25,      7,   1690,  38529,    111,\n",
      "         11716,   5369,  30482,   4049,     70,   4989,    525,      9,    107,\n",
      "           872,    592,      6,  88940,    748,     23,  76438,  32692,     15,\n",
      "           289, 197271,   1919,  69190,    191,      4,     70,  43954,     66,\n",
      "         10617,  31678,     56,    748,      4,   1902,     70,   4989,    525,\n",
      "         14922,    111,     44,    112,  72563,     58,  14537,     16,    136,\n",
      "          1632,    111,     70,   4989,    525,      9,    107,    872,    592,\n",
      "         79986,   4295,     23,     70,   8999,      5,  33306,      4,  16792,\n",
      "           764,  82800,    297,     70,      6,  42294,     86,     99,     70,\n",
      "         32070,    111,  59671,      4,   8561,  14537,    509,  34658,    100,\n",
      "         37195,   5369,    390,  22759, 119555,    933,    136,   1919,   9963,\n",
      "           432,   9319,      4,     70,  12801,   2775,  11856, 145058,  33730,\n",
      "        211423,    169,   1132,   1463,      5,      2,      1,      1,      1,\n",
      "             1,      1,      1,      1,      1,      1,      1,      1,      1,\n",
      "             1,      1,      1,      1,      1,      1,      1,      1,      1,\n",
      "             1,      1,      1,      1,      1,      1,      1,      1])\n",
      "[Nov 03, 04:23:56] #>>>> before linear doc ==\n",
      "[Nov 03, 04:23:56] #>>>>> D: torch.Size([152, 768]), tensor([[ 1.0877e-01,  1.0362e-01,  8.7312e-02,  ..., -5.2415e-02,\n",
      "          4.5925e-02, -4.6694e-02],\n",
      "        [-2.8428e-02,  7.4309e-02,  1.3414e-02,  ..., -6.7811e-02,\n",
      "         -3.1554e-02, -1.1184e-01],\n",
      "        [-8.2935e-02,  1.2902e-01, -6.2716e-02,  ...,  2.3866e-01,\n",
      "         -3.7944e-02,  1.4481e-01],\n",
      "        ...,\n",
      "        [ 6.8902e-02,  8.4296e-02,  3.2170e-02,  ..., -1.0018e-01,\n",
      "          2.2928e-03,  4.1588e-04],\n",
      "        [ 1.0680e-01,  1.1158e-01,  3.9318e-02,  ..., -1.3480e-01,\n",
      "         -1.3334e-02, -1.7138e-02],\n",
      "        [ 5.2340e-05,  6.0379e-02,  3.4702e-02,  ...,  2.4411e-02,\n",
      "          3.6959e-03, -4.7569e-02]], grad_fn=<SelectBackward0>)\n",
      "[Nov 03, 04:23:56] #>>>>> self.linear doc : Parameter containing:\n",
      "tensor([[-1.2613e-02, -3.6824e-03, -1.0773e-02,  ..., -1.3896e-02,\n",
      "          1.2244e-02, -8.2326e-03],\n",
      "        [-3.4988e-03,  3.9623e-03, -2.4905e-02,  ..., -2.6214e-02,\n",
      "          4.0837e-03, -8.0812e-03],\n",
      "        [-1.1158e-02, -2.1660e-05,  1.5019e-02,  ..., -1.1310e-02,\n",
      "         -9.3691e-03, -2.2202e-02],\n",
      "        ...,\n",
      "        [-1.0295e-02,  3.2577e-02,  3.3341e-03,  ...,  3.1876e-02,\n",
      "          3.6851e-03,  2.2995e-02],\n",
      "        [ 1.5563e-03,  2.2341e-03,  1.3362e-02,  ..., -2.8300e-02,\n",
      "          3.9382e-03,  1.1980e-02],\n",
      "        [-5.5801e-03,  3.1922e-02, -2.3421e-02,  ..., -1.1762e-04,\n",
      "          1.1104e-02, -9.7669e-03]], requires_grad=True)\n",
      "[Nov 03, 04:23:56] #>>>> colbert doc ==\n",
      "[Nov 03, 04:23:56] #>>>>> D: torch.Size([152, 128]), tensor([[-0.2039, -0.0238, -0.3537,  ..., -0.1344, -0.1218, -0.1843],\n",
      "        [-0.0986,  0.2079, -0.4990,  ..., -0.1970, -0.3107, -0.0568],\n",
      "        [-0.1393,  0.2116, -0.4999,  ..., -0.2839, -0.2805, -0.0817],\n",
      "        ...,\n",
      "        [-0.1741, -0.0076, -0.3688,  ..., -0.1767, -0.1298, -0.1846],\n",
      "        [-0.2313, -0.0282, -0.3533,  ..., -0.1237, -0.1317, -0.2135],\n",
      "        [-0.0670,  0.1989, -0.4255,  ..., -0.2130, -0.3421, -0.0461]],\n",
      "       grad_fn=<SelectBackward0>)\n",
      "#>>>   30.24, 29.87 \t\t|\t\t 0.36999999999999744\n",
      "[Nov 03, 04:24:05] 0 0.5266221165657043\n",
      "#>>>   30.37, 29.59 \t\t|\t\t 0.7800000000000011\n",
      "[Nov 03, 04:24:18] 1 0.5264735462665557\n",
      "#>>>   30.65, 29.36 \t\t|\t\t 1.2899999999999991\n",
      "[Nov 03, 04:24:25] 2 0.5261918588039874\n",
      "#> Saving a checkpoint to /tmp/tmpw0dp15mr/output_dir/test_training/2023-11/03/03.29.57/checkpoints/colbert.dnn.batch_3.model ..\n",
      "#> Saving a checkpoint to /tmp/tmpw0dp15mr/output_dir/test_training/2023-11/03/03.29.57/checkpoints/colbert-batch_3 ..\n",
      "[Nov 03, 04:24:33] name:/tmp/tmpw0dp15mr/output_dir/test_training/2023-11/03/03.29.57/checkpoints/colbert-LAST.dnn\n",
      "[Nov 03, 04:24:33] Make a sym link of /tmp/tmpw0dp15mr/output_dir/test_training/2023-11/03/03.29.57/checkpoints/colbert.dnn.batch_3.model to /tmp/tmpw0dp15mr/output_dir/test_training/2023-11/03/03.29.57/checkpoints/colbert-LAST.dnn\n",
      "[Nov 03, 04:24:33] #> Done with all triples!\n",
      "#> Saving a checkpoint to /tmp/tmpw0dp15mr/output_dir/test_training/2023-11/03/03.29.57/checkpoints/colbert ..\n"
     ]
    }
   ],
   "source": [
    "with Run().context(RunConfig(root=args_dict['root'], experiment=args_dict['experiment'], nranks=args_dict['nranks'], amp=args_dict['amp'])):\n",
    "    colBERTConfig = ColBERTConfig(**args_dict)\n",
    "    latest_model_fn = train(colBERTConfig, text_triples_fn, None, None)"
   ]
  },
  {
   "cell_type": "markdown",
   "id": "4a6d09e9",
   "metadata": {},
   "source": [
    "## Indexing\n",
    "Next, we will index a collection of documents, using model representaion from the previous step. \n",
    "The collection is a TSV file, containing each document's ID, title, and text."
   ]
  },
  {
   "cell_type": "code",
   "execution_count": 28,
   "id": "f7191fad",
   "metadata": {},
   "outputs": [],
   "source": [
    "collection_fn = os.path.join(test_files_location, \"xorqa.train_ir_001pct_at_0_pct_collection_fornum.tsv\")"
   ]
  },
  {
   "cell_type": "markdown",
   "id": "e662a2ea",
   "metadata": {},
   "source": [
    "Here is an example document:"
   ]
  },
  {
   "cell_type": "code",
   "execution_count": 29,
   "id": "3be63d29",
   "metadata": {
    "scrolled": true
   },
   "outputs": [
    {
     "data": {
      "text/html": [
       "<table border=\"1\" class=\"dataframe\">\n",
       "  <thead>\n",
       "    <tr style=\"text-align: right;\">\n",
       "      <th></th>\n",
       "      <th>id</th>\n",
       "      <th>text</th>\n",
       "      <th>title</th>\n",
       "    </tr>\n",
       "  </thead>\n",
       "  <tbody>\n",
       "    <tr>\n",
       "      <th>0</th>\n",
       "      <td>1</td>\n",
       "      <td>The Kangxi Emperor's reign of 61 years makes him the longest-reigning emperor in Chinese history (although his grandson, the Qianlong Emperor, had the longest period of \"de facto\" power) and one of the longest-reigning rulers in the world. However, since he ascended the throne at the age of seven, actual power was held for six years by four regents and his grandmother, the Grand Empress Dowager Xiaozhuang.</td>\n",
       "      <td>Kangxi Emperor</td>\n",
       "    </tr>\n",
       "  </tbody>\n",
       "</table>"
      ],
      "text/plain": [
       "<IPython.core.display.HTML object>"
      ]
     },
     "metadata": {},
     "output_type": "display_data"
    }
   ],
   "source": [
    "data = pd.read_csv(collection_fn, sep='\\t', header=0, nrows=1)\n",
    "display(HTML(data.to_html()))"
   ]
  },
  {
   "cell_type": "markdown",
   "id": "dfadb75a",
   "metadata": {},
   "source": [
    "Here are the indexer arguments:"
   ]
  },
  {
   "cell_type": "code",
   "execution_count": 30,
   "id": "049c8272",
   "metadata": {},
   "outputs": [],
   "source": [
    "args_dict = {\n",
    "                'root': os.path.join(output_dir,'test_indexing'),\n",
    "                'experiment': 'test_indexing',\n",
    "                'checkpoint': latest_model_fn,\n",
    "                'collection': collection_fn,\n",
    "                'index_root': os.path.join(output_dir, 'test_indexing', 'indexes'),\n",
    "                'index_name': 'index_name',\n",
    "                'doc_maxlen': 180,\n",
    "                'num_partitions_max': 2,\n",
    "                'kmeans_niters': 1,\n",
    "                'nway': 1,\n",
    "                'rank': 0,\n",
    "                'nranks': 1,\n",
    "                'amp' : True\n",
    "            }"
   ]
  },
  {
   "cell_type": "markdown",
   "id": "d96f1dbe",
   "metadata": {},
   "source": [
    "Here we run the indexer:"
   ]
  },
  {
   "cell_type": "code",
   "execution_count": 31,
   "id": "4078d9d9",
   "metadata": {},
   "outputs": [
    {
     "name": "stdout",
     "output_type": "stream",
     "text": [
      "\n",
      "\n",
      "[Nov 03, 04:24:49] #> Creating directory /tmp/tmpw0dp15mr/output_dir/test_indexing/indexes/index_name \n",
      "\n",
      "\n",
      "{\n",
      "    \"ncells\": null,\n",
      "    \"centroid_score_threshold\": null,\n",
      "    \"ndocs\": null,\n",
      "    \"index_path\": null,\n",
      "    \"index_location\": null,\n",
      "    \"nbits\": 1,\n",
      "    \"kmeans_niters\": 1,\n",
      "    \"num_partitions_max\": 2,\n",
      "    \"similarity\": \"cosine\",\n",
      "    \"bsize\": 32,\n",
      "    \"accumsteps\": 1,\n",
      "    \"lr\": 3e-6,\n",
      "    \"maxsteps\": 500000,\n",
      "    \"save_every\": null,\n",
      "    \"resume\": false,\n",
      "    \"resume_optimizer\": false,\n",
      "    \"warmup\": null,\n",
      "    \"warmup_bert\": null,\n",
      "    \"relu\": false,\n",
      "    \"nway\": 1,\n",
      "    \"use_ib_negatives\": false,\n",
      "    \"reranker\": false,\n",
      "    \"distillation_alpha\": 1.0,\n",
      "    \"ignore_scores\": false,\n",
      "    \"shuffle_every_epoch\": false,\n",
      "    \"save_steps\": 2000,\n",
      "    \"save_epochs\": -1,\n",
      "    \"epochs\": 10,\n",
      "    \"input_arguments\": {},\n",
      "    \"local_models_repository\": null,\n",
      "    \"ranks_fn\": null,\n",
      "    \"output_dir\": null,\n",
      "    \"topK\": 100,\n",
      "    \"student_teacher_temperature\": 1.0,\n",
      "    \"student_teacher_top_loss_weight\": 0.5,\n",
      "    \"teacher_doc_maxlen\": 180,\n",
      "    \"distill_query_passage_separately\": false,\n",
      "    \"query_only\": false,\n",
      "    \"loss_function\": null,\n",
      "    \"query_weight\": 0.5,\n",
      "    \"rng_seed\": 12345,\n",
      "    \"query_maxlen\": 32,\n",
      "    \"attend_to_mask_tokens\": false,\n",
      "    \"interaction\": \"colbert\",\n",
      "    \"dim\": 128,\n",
      "    \"doc_maxlen\": 180,\n",
      "    \"mask_punctuation\": true,\n",
      "    \"checkpoint\": \"\\/tmp\\/tmpw0dp15mr\\/output_dir\\/test_training\\/2023-11\\/03\\/03.29.57\\/checkpoints\\/colbert\",\n",
      "    \"teacher_checkpoint\": null,\n",
      "    \"triples\": null,\n",
      "    \"teacher_triples\": null,\n",
      "    \"collection\": \"..\\/..\\/..\\/tests\\/resources\\/ir_dense\\/xorqa.train_ir_001pct_at_0_pct_collection_fornum.tsv\",\n",
      "    \"queries\": null,\n",
      "    \"index_name\": \"index_name\",\n",
      "    \"overwrite\": false,\n",
      "    \"root\": \"\\/tmp\\/tmpw0dp15mr\\/output_dir\\/test_indexing\",\n",
      "    \"experiment\": \"test_indexing\",\n",
      "    \"index_root\": \"\\/tmp\\/tmpw0dp15mr\\/output_dir\\/test_indexing\\/indexes\",\n",
      "    \"name\": \"2023-11\\/03\\/03.29.57\",\n",
      "    \"rank\": 0,\n",
      "    \"nranks\": 1,\n",
      "    \"amp\": true,\n",
      "    \"gpus\": 0\n",
      "}\n",
      "[Nov 03, 04:24:49] #> Loading collection...\n",
      "0M \n",
      "[Nov 03, 04:24:49] #>>>>> at ColBERT name (model name) : /tmp/tmpw0dp15mr/output_dir/test_training/2023-11/03/03.29.57/checkpoints/colbert\n",
      "[Nov 03, 04:24:49] #>>>>> at BaseColBERT name (model name) : /tmp/tmpw0dp15mr/output_dir/test_training/2023-11/03/03.29.57/checkpoints/colbert\n",
      "[Nov 03, 04:24:49] #> base_config.py load_from_checkpoint /tmp/tmpw0dp15mr/output_dir/test_training/2023-11/03/03.29.57/checkpoints/colbert\n",
      "[Nov 03, 04:24:49] #> base_config.py load_from_checkpoint /tmp/tmpw0dp15mr/output_dir/test_training/2023-11/03/03.29.57/checkpoints/colbert/artifact.metadata\n",
      "[Nov 03, 04:24:49] #> base_config.py from_path /tmp/tmpw0dp15mr/output_dir/test_training/2023-11/03/03.29.57/checkpoints/colbert/artifact.metadata\n",
      "[Nov 03, 04:24:49] #> base_config.py from_path args loaded! \n",
      "[Nov 03, 04:24:49] factory model type: xlm-roberta\n",
      "[Nov 03, 04:24:58] factory model type: xlm-roberta\n",
      "[Nov 03, 04:24:59] factory model type: xlm-roberta\n",
      "[Nov 03, 04:24:59] [0] \t\t # of sampled PIDs = 7 \t sampled_pids[:3] = [3, 5, 0]\n",
      "[Nov 03, 04:24:59] [0] \t\t #> Encoding 7 passages..\n",
      "[Nov 03, 04:24:59] #> checkpoint, docFromText, Input: title | text, \t\t 32\n",
      "[Nov 03, 04:24:59] #> XLMR DocTokenizer.tensorize(batch_text[0], batch_background[0], bsize) ==\n",
      "[Nov 03, 04:24:59] #> Input: $ title | text, \t\t 32\n",
      "[Nov 03, 04:24:59] #> Output IDs: torch.Size([180]), tensor([    0,  9749, 44759,     6, 58745,  7986,     2,     1,     1,     1,\n",
      "            1,     1,     1,     1,     1,     1,     1,     1,     1,     1,\n",
      "            1,     1,     1,     1,     1,     1,     1,     1,     1,     1,\n",
      "            1,     1,     1,     1,     1,     1,     1,     1,     1,     1,\n",
      "            1,     1,     1,     1,     1,     1,     1,     1,     1,     1,\n",
      "            1,     1,     1,     1,     1,     1,     1,     1,     1,     1,\n",
      "            1,     1,     1,     1,     1,     1,     1,     1,     1,     1,\n",
      "            1,     1,     1,     1,     1,     1,     1,     1,     1,     1,\n",
      "            1,     1,     1,     1,     1,     1,     1,     1,     1,     1,\n",
      "            1,     1,     1,     1,     1,     1,     1,     1,     1,     1,\n",
      "            1,     1,     1,     1,     1,     1,     1,     1,     1,     1,\n",
      "            1,     1,     1,     1,     1,     1,     1,     1,     1,     1,\n",
      "            1,     1,     1,     1,     1,     1,     1,     1,     1,     1,\n",
      "            1,     1,     1,     1,     1,     1,     1,     1,     1,     1,\n",
      "            1,     1,     1,     1,     1,     1,     1,     1,     1,     1,\n",
      "            1,     1,     1,     1,     1,     1,     1,     1,     1,     1,\n",
      "            1,     1,     1,     1,     1,     1,     1,     1,     1,     1,\n",
      "            1,     1,     1,     1,     1,     1,     1,     1,     1,     1])\n",
      "[Nov 03, 04:24:59] #> Output Mask: torch.Size([180]), tensor([1, 1, 1, 1, 1, 1, 1, 0, 0, 0, 0, 0, 0, 0, 0, 0, 0, 0, 0, 0, 0, 0, 0, 0,\n",
      "        0, 0, 0, 0, 0, 0, 0, 0, 0, 0, 0, 0, 0, 0, 0, 0, 0, 0, 0, 0, 0, 0, 0, 0,\n",
      "        0, 0, 0, 0, 0, 0, 0, 0, 0, 0, 0, 0, 0, 0, 0, 0, 0, 0, 0, 0, 0, 0, 0, 0,\n",
      "        0, 0, 0, 0, 0, 0, 0, 0, 0, 0, 0, 0, 0, 0, 0, 0, 0, 0, 0, 0, 0, 0, 0, 0,\n",
      "        0, 0, 0, 0, 0, 0, 0, 0, 0, 0, 0, 0, 0, 0, 0, 0, 0, 0, 0, 0, 0, 0, 0, 0,\n",
      "        0, 0, 0, 0, 0, 0, 0, 0, 0, 0, 0, 0, 0, 0, 0, 0, 0, 0, 0, 0, 0, 0, 0, 0,\n",
      "        0, 0, 0, 0, 0, 0, 0, 0, 0, 0, 0, 0, 0, 0, 0, 0, 0, 0, 0, 0, 0, 0, 0, 0,\n",
      "        0, 0, 0, 0, 0, 0, 0, 0, 0, 0, 0, 0])\n",
      "[Nov 03, 04:24:59] #> checkpoint, docFromText, Output IDs: (tensor([[     0,   9749,  44759,  ...,      1,      1,      1],\n",
      "        [     0,   9749,  30267,  ...,      1,      1,      1],\n",
      "        [     0,   9749,  31678,  ...,      5,      2,      1],\n",
      "        ...,\n",
      "        [     0,   9749,   9098,  ...,      1,      1,      1],\n",
      "        [     0,   9749,    341,  ..., 120025,     92,      2],\n",
      "        [     0,   9749,  11617,  ...,      1,      1,      1]]), tensor([[1, 1, 1,  ..., 0, 0, 0],\n",
      "        [1, 1, 1,  ..., 0, 0, 0],\n",
      "        [1, 1, 1,  ..., 1, 1, 0],\n",
      "        ...,\n",
      "        [1, 1, 1,  ..., 0, 0, 0],\n",
      "        [1, 1, 1,  ..., 1, 1, 1],\n",
      "        [1, 1, 1,  ..., 0, 0, 0]]))\n",
      "[Nov 03, 04:24:59] #>>>> colbert doc ==\n",
      "[Nov 03, 04:24:59] #>>>>> input_ids: torch.Size([180]), tensor([    0,  9749, 44759,     6, 58745,  7986,     2,     1,     1,     1,\n",
      "            1,     1,     1,     1,     1,     1,     1,     1,     1,     1,\n",
      "            1,     1,     1,     1,     1,     1,     1,     1,     1,     1,\n",
      "            1,     1,     1,     1,     1,     1,     1,     1,     1,     1,\n",
      "            1,     1,     1,     1,     1,     1,     1,     1,     1,     1,\n",
      "            1,     1,     1,     1,     1,     1,     1,     1,     1,     1,\n",
      "            1,     1,     1,     1,     1,     1,     1,     1,     1,     1,\n",
      "            1,     1,     1,     1,     1,     1,     1,     1,     1,     1,\n",
      "            1,     1,     1,     1,     1,     1,     1,     1,     1,     1,\n",
      "            1,     1,     1,     1,     1,     1,     1,     1,     1,     1,\n",
      "            1,     1,     1,     1,     1,     1,     1,     1,     1,     1,\n",
      "            1,     1,     1,     1,     1,     1,     1,     1,     1,     1,\n",
      "            1,     1,     1,     1,     1,     1,     1,     1,     1,     1,\n",
      "            1,     1,     1,     1,     1,     1,     1,     1,     1,     1,\n",
      "            1,     1,     1,     1,     1,     1,     1,     1,     1,     1,\n",
      "            1,     1,     1,     1,     1,     1,     1,     1,     1,     1,\n",
      "            1,     1,     1,     1,     1,     1,     1,     1,     1,     1,\n",
      "            1,     1,     1,     1,     1,     1,     1,     1,     1,     1])\n"
     ]
    },
    {
     "name": "stderr",
     "output_type": "stream",
     "text": [
      "/dccstor/cssblr/rbhat/.envs/pqa/lib/python3.9/site-packages/torch/cuda/amp/grad_scaler.py:115: UserWarning: torch.cuda.amp.GradScaler is enabled, but CUDA is not available.  Disabling.\n",
      "  warnings.warn(\"torch.cuda.amp.GradScaler is enabled, but CUDA is not available.  Disabling.\")\n",
      "/dccstor/cssblr/rbhat/.envs/pqa/lib/python3.9/site-packages/torch/autocast_mode.py:162: UserWarning: User provided device_type of 'cuda', but CUDA is not available. Disabling\n",
      "  warnings.warn('User provided device_type of \\'cuda\\', but CUDA is not available. Disabling')\n"
     ]
    },
    {
     "name": "stdout",
     "output_type": "stream",
     "text": [
      "[Nov 03, 04:25:02] #>>>> before linear doc ==\n",
      "[Nov 03, 04:25:02] #>>>>> D: torch.Size([180, 768]), tensor([[ 7.2345e-02,  9.6544e-02,  5.4753e-02,  ..., -1.4623e-01,\n",
      "          5.4647e-02, -7.2017e-05],\n",
      "        [ 6.8214e-03,  2.6334e-02,  3.3698e-02,  ..., -1.3284e-01,\n",
      "          1.2795e-02,  1.1620e-01],\n",
      "        [-4.2909e-02,  9.3319e-02, -3.2824e-02,  ..., -2.9806e-01,\n",
      "         -2.8376e-02,  9.0276e-02],\n",
      "        ...,\n",
      "        [-5.2570e-02,  5.3625e-02,  4.5890e-03,  ..., -1.7077e-01,\n",
      "         -4.3442e-02,  4.8794e-03],\n",
      "        [-5.2570e-02,  5.3625e-02,  4.5890e-03,  ..., -1.7077e-01,\n",
      "         -4.3442e-02,  4.8794e-03],\n",
      "        [-5.2570e-02,  5.3625e-02,  4.5890e-03,  ..., -1.7077e-01,\n",
      "         -4.3442e-02,  4.8794e-03]])\n",
      "[Nov 03, 04:25:02] #>>>>> self.linear doc : Parameter containing:\n",
      "tensor([[-1.2618e-02, -3.6898e-03, -1.0781e-02,  ..., -1.3904e-02,\n",
      "          1.2236e-02, -8.2367e-03],\n",
      "        [-3.4999e-03,  3.9670e-03, -2.4897e-02,  ..., -2.6206e-02,\n",
      "          4.0920e-03, -8.0773e-03],\n",
      "        [-1.1149e-02, -2.6172e-05,  1.5013e-02,  ..., -1.1318e-02,\n",
      "         -9.3766e-03, -2.2203e-02],\n",
      "        ...,\n",
      "        [-1.0288e-02,  3.2584e-02,  3.3274e-03,  ...,  3.1873e-02,\n",
      "          3.6922e-03,  2.2987e-02],\n",
      "        [ 1.5643e-03,  2.2398e-03,  1.3353e-02,  ..., -2.8300e-02,\n",
      "          3.9308e-03,  1.1987e-02],\n",
      "        [-5.5874e-03,  3.1917e-02, -2.3425e-02,  ..., -1.1576e-04,\n",
      "          1.1104e-02, -9.7742e-03]], requires_grad=True)\n",
      "[Nov 03, 04:25:02] #>>>> colbert doc ==\n",
      "[Nov 03, 04:25:02] #>>>>> D: torch.Size([180, 128]), tensor([[-0.2280, -0.0239, -0.3375,  ..., -0.1226, -0.1298, -0.2036],\n",
      "        [-0.0842,  0.1470, -0.3703,  ..., -0.2198, -0.2294, -0.0850],\n",
      "        [-0.0825,  0.1627, -0.5006,  ..., -0.1609, -0.2553, -0.0879],\n",
      "        ...,\n",
      "        [-0.1630,  0.1799, -0.4254,  ..., -0.1383, -0.3277, -0.1720],\n",
      "        [-0.1630,  0.1799, -0.4254,  ..., -0.1383, -0.3277, -0.1720],\n",
      "        [-0.1630,  0.1799, -0.4254,  ..., -0.1383, -0.3277, -0.1720]])\n",
      "[Nov 03, 04:25:02] [0] \t\t avg_doclen_est = 174.57142639160156 \t len(local_sample) = 7\n",
      "[Nov 03, 04:25:02] >> num_partitions_multiplier = 8, self.num_partitions = 256\n",
      "[Nov 03, 04:25:02] >> num_partitions limited to: self.num_partitions = 2\n",
      "[Nov 03, 04:25:02] [0] \t\t Creaing 2 partitions.\n",
      "[Nov 03, 04:25:02] [0] \t\t *Estimated* 1,221 embeddings.\n",
      "[Nov 03, 04:25:02] [0] \t\t #> Saving the indexing plan to /tmp/tmpw0dp15mr/output_dir/test_indexing/indexes/index_name/plan.json ..\n",
      "\n",
      "Sampling a subset of 512 / 1161 for training\n",
      "Clustering 512 points in 128D to 2 clusters, redo 1 times, 1 iterations\n",
      "  Preprocessing in 0.00 s\n",
      "[0.01, 0.015, 0.009, 0.011, 0.009, 0.021, 0.009, 0.014, 0.013, 0.009, 0.012, 0.013, 0.02, 0.012, 0.023, 0.016, 0.009, 0.012, 0.009, 0.011, 0.012, 0.015, 0.023, 0.01, 0.017, 0.015, 0.01, 0.016, 0.011, 0.011, 0.012, 0.009, 0.011, 0.019, 0.017, 0.019, 0.01, 0.016, 0.011, 0.017, 0.013, 0.015, 0.015, 0.02, 0.012, 0.01, 0.015, 0.009, 0.013, 0.015, 0.018, 0.019, 0.013, 0.013, 0.011, 0.017, 0.01, 0.015, 0.015, 0.012, 0.013, 0.01, 0.014, 0.009, 0.016, 0.009, 0.015, 0.015, 0.016, 0.016, 0.01, 0.016, 0.013, 0.016, 0.018, 0.009, 0.012, 0.013, 0.011, 0.01, 0.011, 0.016, 0.009, 0.011, 0.012, 0.018, 0.013, 0.014, 0.014, 0.01, 0.015, 0.013, 0.016, 0.022, 0.014, 0.011, 0.011, 0.017, 0.012, 0.011, 0.013, 0.012, 0.017, 0.01, 0.013, 0.019, 0.015, 0.016, 0.021, 0.011, 0.018, 0.017, 0.011, 0.014, 0.014, 0.017, 0.017, 0.01, 0.018, 0.012, 0.018, 0.009, 0.021, 0.008, 0.02, 0.011, 0.017, 0.009]\n",
      "[Nov 03, 04:25:02] #> Got bucket_cutoffs_quantiles = tensor([0.5000]) and bucket_weights_quantiles = tensor([0.2500, 0.7500])\n",
      "[Nov 03, 04:25:02] #> Got bucket_cutoffs = tensor([0.0004]) and bucket_weights = tensor([-0.0112,  0.0112])\n",
      "[Nov 03, 04:25:02] avg_residual = 0.013683205470442772\n",
      "[Nov 03, 04:25:02] #> base_config.py from_path /tmp/tmpw0dp15mr/output_dir/test_indexing/indexes/index_name/metadata.json\n",
      "[Nov 03, 04:25:02] #> base_config.py from_path /tmp/tmpw0dp15mr/output_dir/test_indexing/indexes/index_name/plan.json\n",
      "[Nov 03, 04:25:02] #> base_config.py from_path args loaded! \n",
      "[Nov 03, 04:25:02] #> base_config.py from_path args replaced ! \n"
     ]
    },
    {
     "name": "stderr",
     "output_type": "stream",
     "text": [
      "\r",
      "0it [00:00, ?it/s]"
     ]
    },
    {
     "name": "stdout",
     "output_type": "stream",
     "text": [
      "[Nov 03, 04:25:02] [0] \t\t #> Encoding 7 passages..\n",
      "[Nov 03, 04:25:03] [0] \t\t #> Saving chunk 0: \t 7 passages and 1,222 embeddings. From #0 onward.\n"
     ]
    },
    {
     "name": "stderr",
     "output_type": "stream",
     "text": [
      "1it [00:00,  1.64it/s]"
     ]
    },
    {
     "name": "stdout",
     "output_type": "stream",
     "text": [
      "[Nov 03, 04:25:03] offset: 0\n",
      "[Nov 03, 04:25:03] chunk codes size(0): 1222\n",
      "[Nov 03, 04:25:03] codes size(0): 1222\n",
      "[Nov 03, 04:25:03] codes size(): torch.Size([1222])\n",
      "[Nov 03, 04:25:03] >>>>partition.size(0): 2\n",
      "[Nov 03, 04:25:03] >>>>num_partition: 2\n",
      "[Nov 03, 04:25:03] #> Optimizing IVF to store map from centroids to list of pids..\n",
      "[Nov 03, 04:25:03] #> Building the emb2pid mapping..\n",
      "[Nov 03, 04:25:03] len(emb2pid) = 1222\n"
     ]
    },
    {
     "name": "stderr",
     "output_type": "stream",
     "text": [
      "\n",
      "100%|███████████████████████████████████████████████████████████████████████████████████████████████████████████████████████| 2/2 [00:00<00:00, 5741.69it/s]"
     ]
    },
    {
     "name": "stdout",
     "output_type": "stream",
     "text": [
      "[Nov 03, 04:25:03] #> Saved optimized IVF to /tmp/tmpw0dp15mr/output_dir/test_indexing/indexes/index_name/ivf.pid.pt\n",
      "[Nov 03, 04:25:03] [0] \t\t #> Saving the indexing metadata to /tmp/tmpw0dp15mr/output_dir/test_indexing/indexes/index_name/metadata.json ..\n"
     ]
    },
    {
     "name": "stderr",
     "output_type": "stream",
     "text": [
      "\n"
     ]
    }
   ],
   "source": [
    "with Run().context(RunConfig(root=args_dict['root'], experiment=args_dict['experiment'], nranks=args_dict['nranks'], amp=args_dict['amp'])):\n",
    "    colBERTConfig = ColBERTConfig(**args_dict)\n",
    "    create_directory(colBERTConfig.index_path_)\n",
    "    encode(colBERTConfig, collection_fn, None, None)\n"
   ]
  },
  {
   "cell_type": "markdown",
   "id": "b414c082",
   "metadata": {},
   "source": [
    "The resulting index files are in `output_dir/test_indexing/indexes/index_name`"
   ]
  },
  {
   "cell_type": "markdown",
   "id": "cfae0f75",
   "metadata": {},
   "source": [
    "## Search\n",
    "Next, we use the trained model and the index to search the collection, using queries from a TSV query file."
   ]
  },
  {
   "cell_type": "code",
   "execution_count": 32,
   "id": "c9821799",
   "metadata": {},
   "outputs": [],
   "source": [
    "queries_fn = os.path.join(test_files_location, \"xorqa.train_ir_001pct_at_0_pct_queries_fornum.tsv\")"
   ]
  },
  {
   "cell_type": "markdown",
   "id": "40998e9e",
   "metadata": {},
   "source": [
    "Here are the search arguments:"
   ]
  },
  {
   "cell_type": "code",
   "execution_count": 33,
   "id": "bdb5b7b2",
   "metadata": {},
   "outputs": [],
   "source": [
    "args_dict = {\n",
    "                'root': output_dir,\n",
    "                'experiment': 'test_indexing' ,\n",
    "                'checkpoint': latest_model_fn,\n",
    "                'index_location': os.path.join(output_dir, 'test_indexing', 'indexes', 'index_name'),\n",
    "                'queries': queries_fn,\n",
    "                'bsize': 1,\n",
    "                'topK': 1,\n",
    "                'nway': 1,\n",
    "                'rank': 0,\n",
    "                'nranks': 1,\n",
    "                'amp': True,\n",
    "            }"
   ]
  },
  {
   "cell_type": "markdown",
   "id": "d95e619e",
   "metadata": {},
   "source": [
    "Here we initalize and run the searcher:"
   ]
  },
  {
   "cell_type": "code",
   "execution_count": 34,
   "id": "a23cb798",
   "metadata": {},
   "outputs": [
    {
     "name": "stdout",
     "output_type": "stream",
     "text": [
      "[Nov 03, 04:25:25] #> base_config.py from_path /tmp/tmpw0dp15mr/output_dir/test_indexing/indexes/index_name/metadata.json\n",
      "[Nov 03, 04:25:25] #> base_config.py from_path args loaded! \n",
      "[Nov 03, 04:25:25] #> base_config.py from_path args replaced ! \n",
      "[Nov 03, 04:25:25] #> base_config.py load_from_checkpoint /tmp/tmpw0dp15mr/output_dir/test_training/2023-11/03/03.29.57/checkpoints/colbert\n",
      "[Nov 03, 04:25:25] #> base_config.py load_from_checkpoint /tmp/tmpw0dp15mr/output_dir/test_training/2023-11/03/03.29.57/checkpoints/colbert/artifact.metadata\n",
      "[Nov 03, 04:25:25] #> base_config.py from_path /tmp/tmpw0dp15mr/output_dir/test_training/2023-11/03/03.29.57/checkpoints/colbert/artifact.metadata\n",
      "[Nov 03, 04:25:25] #> base_config.py from_path args loaded! \n",
      "[Nov 03, 04:25:25] #>>>>> at ColBERT name (model name) : /tmp/tmpw0dp15mr/output_dir/test_training/2023-11/03/03.29.57/checkpoints/colbert\n",
      "[Nov 03, 04:25:25] #>>>>> at BaseColBERT name (model name) : /tmp/tmpw0dp15mr/output_dir/test_training/2023-11/03/03.29.57/checkpoints/colbert\n",
      "[Nov 03, 04:25:25] #> base_config.py load_from_checkpoint /tmp/tmpw0dp15mr/output_dir/test_training/2023-11/03/03.29.57/checkpoints/colbert\n",
      "[Nov 03, 04:25:25] #> base_config.py load_from_checkpoint /tmp/tmpw0dp15mr/output_dir/test_training/2023-11/03/03.29.57/checkpoints/colbert/artifact.metadata\n",
      "[Nov 03, 04:25:25] #> base_config.py from_path /tmp/tmpw0dp15mr/output_dir/test_training/2023-11/03/03.29.57/checkpoints/colbert/artifact.metadata\n",
      "[Nov 03, 04:25:25] #> base_config.py from_path args loaded! \n",
      "[Nov 03, 04:25:25] factory model type: xlm-roberta\n",
      "[Nov 03, 04:25:34] factory model type: xlm-roberta\n",
      "[Nov 03, 04:25:35] factory model type: xlm-roberta\n",
      "[Nov 03, 04:25:35] #> Loading codec...\n",
      "[Nov 03, 04:25:35] #> base_config.py from_path /tmp/tmpw0dp15mr/output_dir/test_indexing/indexes/index_name/metadata.json\n",
      "[Nov 03, 04:25:35] #> base_config.py from_path args loaded! \n",
      "[Nov 03, 04:25:35] #> base_config.py from_path args replaced ! \n",
      "[Nov 03, 04:25:35] #> Loading IVF...\n",
      "[Nov 03, 04:25:36] #> Loading the queries from ../../../tests/resources/ir_dense/xorqa.train_ir_001pct_at_0_pct_queries_fornum.tsv ...\n",
      "[Nov 03, 04:25:36] #> Got 1 queries. All QIDs are unique.\n",
      "\n",
      "[Nov 03, 04:25:36] #> XMLR QueryTokenizer.tensorize(batch_text[0], batch_background[0], bsize) ==\n",
      "[Nov 03, 04:25:36] #> Input: $ 중국에서 가장 오랜기간 왕위를 유지한 인물은 누구인가?, \t\t True, \t\t None\n",
      "[Nov 03, 04:25:36] #> Output IDs: torch.Size([32]), tensor([     0,   9748,  24120,   1180,  13968, 211059,  83639,  76826,  78363,\n",
      "         57104,    993, 161732,    697, 116932, 114150,     32,      2,      1,\n",
      "             1,      1,      1,      1,      1,      1,      1,      1,      1,\n",
      "             1,      1,      1,      1,      1])\n",
      "[Nov 03, 04:25:36] #> Output Mask: torch.Size([32]), tensor([1, 1, 1, 1, 1, 1, 1, 1, 1, 1, 1, 1, 1, 1, 1, 1, 1, 0, 0, 0, 0, 0, 0, 0,\n",
      "        0, 0, 0, 0, 0, 0, 0, 0])\n",
      "[Nov 03, 04:25:36] #>>>> colbert query ==\n",
      "[Nov 03, 04:25:36] #>>>>> input_ids: torch.Size([32]), tensor([     0,   9748,  24120,   1180,  13968, 211059,  83639,  76826,  78363,\n",
      "         57104,    993, 161732,    697, 116932, 114150,     32,      2,      1,\n",
      "             1,      1,      1,      1,      1,      1,      1,      1,      1,\n",
      "             1,      1,      1,      1,      1])\n",
      "[Nov 03, 04:25:37] #>>>> before linear query ==\n",
      "[Nov 03, 04:25:37] #>>>>> Q: torch.Size([32, 768]), tensor([[ 0.1819,  0.1031,  0.0650,  ..., -0.1309,  0.0453, -0.0159],\n",
      "        [ 0.0719,  0.0487,  0.0614,  ..., -0.0722, -0.1227, -0.0629],\n",
      "        [ 0.1158,  0.0483,  0.0138,  ...,  0.0008, -0.0050,  0.2066],\n",
      "        ...,\n",
      "        [ 0.1729,  0.0918, -0.0352,  ..., -0.2918, -0.0818,  0.0493],\n",
      "        [ 0.1729,  0.0918, -0.0352,  ..., -0.2918, -0.0818,  0.0493],\n",
      "        [ 0.1729,  0.0918, -0.0352,  ..., -0.2918, -0.0818,  0.0493]])\n",
      "[Nov 03, 04:25:37] #>>>>> self.linear query : Parameter containing:\n",
      "tensor([[-1.2618e-02, -3.6898e-03, -1.0781e-02,  ..., -1.3904e-02,\n",
      "          1.2236e-02, -8.2367e-03],\n",
      "        [-3.4999e-03,  3.9670e-03, -2.4897e-02,  ..., -2.6206e-02,\n",
      "          4.0920e-03, -8.0773e-03],\n",
      "        [-1.1149e-02, -2.6172e-05,  1.5013e-02,  ..., -1.1318e-02,\n",
      "         -9.3766e-03, -2.2203e-02],\n",
      "        ...,\n",
      "        [-1.0288e-02,  3.2584e-02,  3.3274e-03,  ...,  3.1873e-02,\n",
      "          3.6922e-03,  2.2987e-02],\n",
      "        [ 1.5643e-03,  2.2398e-03,  1.3353e-02,  ..., -2.8300e-02,\n",
      "          3.9308e-03,  1.1987e-02],\n",
      "        [-5.5874e-03,  3.1917e-02, -2.3425e-02,  ..., -1.1576e-04,\n",
      "          1.1104e-02, -9.7742e-03]], requires_grad=True)\n",
      "[Nov 03, 04:25:37] #>>>> colbert query ==\n",
      "[Nov 03, 04:25:37] #>>>>> Q: torch.Size([32, 128]), tensor([[-0.2542, -0.0566, -0.3354,  ..., -0.1176, -0.0827, -0.2166],\n",
      "        [-0.0338,  0.2781, -0.4800,  ..., -0.2672, -0.2651, -0.0382],\n",
      "        [ 0.0182,  0.3227, -0.4726,  ..., -0.3593, -0.2612, -0.0099],\n",
      "        ...,\n",
      "        [-0.1893, -0.0438, -0.3286,  ..., -0.1291, -0.0420, -0.2199],\n",
      "        [-0.1893, -0.0438, -0.3286,  ..., -0.1291, -0.0420, -0.2199],\n",
      "        [-0.1893, -0.0438, -0.3286,  ..., -0.1291, -0.0420, -0.2199]])\n"
     ]
    },
    {
     "name": "stderr",
     "output_type": "stream",
     "text": [
      "100%|█████████████████████████████████████████████████████████████████████████████████████████████████████████████████████████| 1/1 [00:00<00:00, 44.18it/s]\n"
     ]
    }
   ],
   "source": [
    "with Run().context(RunConfig(root=args_dict['root'], experiment=args_dict['experiment'], nranks=args_dict['nranks'], amp=args_dict['amp'])):\n",
    "    colBERTConfig = ColBERTConfig(**args_dict)\n",
    "    searcher = Searcher(args_dict['index_location'], checkpoint=args_dict['checkpoint'], config=colBERTConfig)\n",
    "    rankings = searcher.search_all(args_dict['queries'], args_dict['topK'])"
   ]
  },
  {
   "cell_type": "markdown",
   "id": "71ceac32",
   "metadata": {},
   "source": [
    "Here is the search result for our query, containing [query_id, document_id, rank, score]:"
   ]
  },
  {
   "cell_type": "code",
   "execution_count": 35,
   "id": "cd8e1b51",
   "metadata": {},
   "outputs": [
    {
     "data": {
      "text/plain": [
       "('-7239279093922981232', 2, 1, 30.169570922851562)"
      ]
     },
     "execution_count": 35,
     "metadata": {},
     "output_type": "execute_result"
    }
   ],
   "source": [
    "rankings.flat_ranking[0]"
   ]
  },
  {
   "cell_type": "markdown",
   "id": "a888747c",
   "metadata": {},
   "source": [
    "Here is the text of the query record, contataing the ID and text of the query:"
   ]
  },
  {
   "cell_type": "code",
   "execution_count": 36,
   "id": "6027f452",
   "metadata": {},
   "outputs": [
    {
     "name": "stdout",
     "output_type": "stream",
     "text": [
      "-7239279093922981232\t중국에서 가장 오랜기간 왕위를 유지한 인물은 누구인가?\n",
      "\n"
     ]
    }
   ],
   "source": [
    "with open(queries_fn, 'r') as f:\n",
    "    for line in f.readlines():\n",
    "        if str(rankings.flat_ranking[0][0]) == line.split()[0]:\n",
    "            print(line)"
   ]
  },
  {
   "cell_type": "markdown",
   "id": "cbf0a038",
   "metadata": {},
   "source": [
    "English translation: `Who maintained the throne for the longest time in China?`"
   ]
  },
  {
   "cell_type": "markdown",
   "id": "f1408c62",
   "metadata": {},
   "source": [
    "Here is the top retrieved document:"
   ]
  },
  {
   "cell_type": "code",
   "execution_count": 37,
   "id": "89133f23",
   "metadata": {},
   "outputs": [
    {
     "name": "stdout",
     "output_type": "stream",
     "text": [
      "2\tYao. The Bamboo Annals says that when Emperor Zhuanxu died, a descendent of Shennong named ShuQe raised a disturbance, but was destroyed by the prince of Sin, who was Ku (GaoXin), a descendant of HuangDi, who then ascended to the throne. In the 45th year, Ku designated the prince of Tang (唐) (his son Yao) as his successor, however upon his death in the 63rd year, his elder son Zhi then took the throne instead, ruling nine years before being deposed and replaced by Yao. Emperor Zhi Di Zhì () or simply Zhì, was a mythological emperor of ancient China.\tEmperor Zhi\n",
      "\n"
     ]
    }
   ],
   "source": [
    "with open(collection_fn, 'r') as f:\n",
    "    for line in f.readlines():\n",
    "        if str(rankings.flat_ranking[0][1]) == line.split()[0]:\n",
    "            print(line)"
   ]
  },
  {
   "cell_type": "code",
   "execution_count": null,
   "id": "5138883d",
   "metadata": {},
   "outputs": [],
   "source": []
  }
 ],
 "metadata": {
  "kernelspec": {
   "display_name": "Python 3 (ipykernel)",
   "language": "python",
   "name": "python3"
  },
  "language_info": {
   "codemirror_mode": {
    "name": "ipython",
    "version": 3
   },
   "file_extension": ".py",
   "mimetype": "text/x-python",
   "name": "python",
   "nbconvert_exporter": "python",
   "pygments_lexer": "ipython3",
   "version": "3.9.16"
  }
 },
 "nbformat": 4,
 "nbformat_minor": 5
}
